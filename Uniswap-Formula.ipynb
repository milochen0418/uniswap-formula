{
 "cells": [
  {
   "cell_type": "code",
   "execution_count": null,
   "metadata": {},
   "outputs": [],
   "source": [
    "'''\n",
    "Formula\n",
    "\n",
    "Figure it out\n",
    "(10  Eth, 500 Dai)\n",
    "→ pay 1 eth to buy  500/(10+1)=45.5 Dai\n",
    "→ (11 Eth, 454.5 Dai )\n",
    "→ pay 1 eth to buy  (454.5)/(11+1)= 37.875 Dai \n",
    "→ (12 Eth, 416.625 Dai )\n",
    "\n",
    "The Formula \n",
    "(n ETH, m  Dai)\n",
    "→ pay x eth to buy m/(n+x) Dai\n",
    "→ (n+x ETH, m-m/(n+x) Dai   ) \n",
    "\n",
    "'''\n",
    "\n",
    "\n",
    "\n",
    "\n",
    "\n"
   ]
  }
 ],
 "metadata": {
  "kernelspec": {
   "display_name": "Python 3",
   "language": "python",
   "name": "python3"
  },
  "language_info": {
   "codemirror_mode": {
    "name": "ipython",
    "version": 3
   },
   "file_extension": ".py",
   "mimetype": "text/x-python",
   "name": "python",
   "nbconvert_exporter": "python",
   "pygments_lexer": "ipython3",
   "version": "3.6.9"
  }
 },
 "nbformat": 4,
 "nbformat_minor": 2
}
